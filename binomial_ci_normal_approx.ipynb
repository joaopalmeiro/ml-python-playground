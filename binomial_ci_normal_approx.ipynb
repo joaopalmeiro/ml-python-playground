{
 "cells": [
  {
   "cell_type": "code",
   "execution_count": 1,
   "metadata": {},
   "outputs": [],
   "source": [
    "from statsmodels.stats.proportion import proportion_confint\n",
    "from math import sqrt\n",
    "from scipy.stats import norm\n",
    "\n",
    "from sklearn.datasets import load_breast_cancer\n",
    "from sklearn.model_selection import train_test_split\n",
    "from sklearn.tree import DecisionTreeClassifier\n",
    "from sklearn.metrics import confusion_matrix"
   ]
  },
  {
   "cell_type": "code",
   "execution_count": 2,
   "metadata": {},
   "outputs": [],
   "source": [
    "X, y = load_breast_cancer(return_X_y=True)"
   ]
  },
  {
   "cell_type": "code",
   "execution_count": 3,
   "metadata": {},
   "outputs": [
    {
     "data": {
      "text/plain": [
       "True"
      ]
     },
     "execution_count": 3,
     "metadata": {},
     "output_type": "execute_result"
    }
   ],
   "source": [
    "len(X) == len(y)"
   ]
  },
  {
   "cell_type": "code",
   "execution_count": 4,
   "metadata": {},
   "outputs": [],
   "source": [
    "train, test, train_labels, test_labels = train_test_split(X,\n",
    "                                                          y,\n",
    "                                                          test_size=0.33,\n",
    "                                                          random_state=0)"
   ]
  },
  {
   "cell_type": "code",
   "execution_count": 5,
   "metadata": {},
   "outputs": [
    {
     "data": {
      "text/plain": [
       "DecisionTreeClassifier(ccp_alpha=0.0, class_weight=None, criterion='gini',\n",
       "                       max_depth=None, max_features=None, max_leaf_nodes=None,\n",
       "                       min_impurity_decrease=0.0, min_impurity_split=None,\n",
       "                       min_samples_leaf=1, min_samples_split=2,\n",
       "                       min_weight_fraction_leaf=0.0, presort='deprecated',\n",
       "                       random_state=0, splitter='best')"
      ]
     },
     "execution_count": 5,
     "metadata": {},
     "output_type": "execute_result"
    }
   ],
   "source": [
    "dt = DecisionTreeClassifier(random_state=0)\n",
    "dt.fit(train, train_labels)"
   ]
  },
  {
   "cell_type": "code",
   "execution_count": 6,
   "metadata": {},
   "outputs": [],
   "source": [
    "preds = dt.predict(test)"
   ]
  },
  {
   "cell_type": "code",
   "execution_count": 7,
   "metadata": {},
   "outputs": [],
   "source": [
    "tn, fp, fn, tp = confusion_matrix(y_true=test_labels, y_pred=preds).ravel()"
   ]
  },
  {
   "cell_type": "code",
   "execution_count": 8,
   "metadata": {},
   "outputs": [
    {
     "name": "stdout",
     "output_type": "stream",
     "text": [
      "63\t4\n",
      "10\t111\n"
     ]
    }
   ],
   "source": [
    "print(f\"{tn}\\t{fp}\\n{fn}\\t{tp}\")"
   ]
  },
  {
   "cell_type": "markdown",
   "metadata": {},
   "source": [
    "---\n",
    "\n",
    "${\\displaystyle {\\text{Precision}}={\\frac {tp}{tp+fp}}}$\n",
    "\n",
    "${\\displaystyle {\\text{Recall}}={\\frac {tp}{tp+fn}}}$\n",
    "\n",
    "${\\displaystyle {\\text{FPR}}={\\frac {fp}{fp + tn}}}$\n",
    "\n",
    "---"
   ]
  },
  {
   "cell_type": "code",
   "execution_count": 9,
   "metadata": {},
   "outputs": [],
   "source": [
    "# Binomial proportion confidence interval via normal approximation\n",
    "# More info: https://en.wikipedia.org/wiki/Binomial_proportion_confidence_interval\n",
    "\n",
    "def get_asymptotic_normal_approximation(metric, n, alpha=0.05):\n",
    "    z = norm.ppf(1 - (alpha / 2))\n",
    "    \n",
    "    interval = z * sqrt((metric * (1 - metric)) / n)\n",
    "    \n",
    "    upper = metric + interval\n",
    "    lower = metric - interval\n",
    "    \n",
    "    return lower, upper"
   ]
  },
  {
   "cell_type": "code",
   "execution_count": 10,
   "metadata": {},
   "outputs": [
    {
     "name": "stdout",
     "output_type": "stream",
     "text": [
      "Precision: 0.965\n",
      "Recall: 0.917\n",
      "FPR: 0.06\n"
     ]
    }
   ],
   "source": [
    "precision = tp / (tp + fp)\n",
    "print(f\"Precision: {round(precision, 3)}\")\n",
    "\n",
    "recall = tp / (tp + fn)\n",
    "print(f\"Recall: {round(recall, 3)}\")\n",
    "\n",
    "fpr = fp / (fp + tn)\n",
    "print(f\"FPR: {round(fpr, 3)}\")"
   ]
  },
  {
   "cell_type": "code",
   "execution_count": 11,
   "metadata": {},
   "outputs": [
    {
     "name": "stdout",
     "output_type": "stream",
     "text": [
      "Manual: lower = 0.932, upper = 0.999\n",
      "statsmodels: lower = 0.932, upper = 0.999\n"
     ]
    }
   ],
   "source": [
    "# Precision\n",
    "\n",
    "lower, upper = get_asymptotic_normal_approximation(precision, (tp+fp))\n",
    "print(f\"Manual: lower = {round(lower,3)}, upper = {round(upper, 3)}\")\n",
    "\n",
    "lower, upper = proportion_confint(count=tp, nobs=(tp+fp), alpha=0.05, method=\"normal\")\n",
    "print(f\"statsmodels: lower = {round(lower,3)}, upper = {round(upper, 3)}\")"
   ]
  },
  {
   "cell_type": "code",
   "execution_count": 12,
   "metadata": {},
   "outputs": [
    {
     "name": "stdout",
     "output_type": "stream",
     "text": [
      "Manual: lower = 0.868, upper = 0.966\n",
      "statsmodels: lower = 0.868, upper = 0.966\n"
     ]
    }
   ],
   "source": [
    "# Recall\n",
    "\n",
    "lower, upper = get_asymptotic_normal_approximation(recall, (tp+fn))\n",
    "print(f\"Manual: lower = {round(lower,3)}, upper = {round(upper, 3)}\")\n",
    "\n",
    "lower, upper = proportion_confint(count=tp, nobs=(tp+fn), alpha=0.05, method=\"normal\")\n",
    "print(f\"statsmodels: lower = {round(lower,3)}, upper = {round(upper, 3)}\")"
   ]
  },
  {
   "cell_type": "code",
   "execution_count": 13,
   "metadata": {},
   "outputs": [
    {
     "name": "stdout",
     "output_type": "stream",
     "text": [
      "Manual: lower = 0.003, upper = 0.116\n",
      "statsmodels: lower = 0.003, upper = 0.116\n"
     ]
    }
   ],
   "source": [
    "# FPR\n",
    "\n",
    "lower, upper = get_asymptotic_normal_approximation(fpr, (fp+tn))\n",
    "print(f\"Manual: lower = {round(lower,3)}, upper = {round(upper, 3)}\")\n",
    "\n",
    "lower, upper = proportion_confint(count=fp, nobs=(fp+tn), alpha=0.05, method=\"normal\")\n",
    "print(f\"statsmodels: lower = {round(lower,3)}, upper = {round(upper, 3)}\")"
   ]
  }
 ],
 "metadata": {
  "kernelspec": {
   "display_name": "Python 3",
   "language": "python",
   "name": "python3"
  },
  "language_info": {
   "codemirror_mode": {
    "name": "ipython",
    "version": 3
   },
   "file_extension": ".py",
   "mimetype": "text/x-python",
   "name": "python",
   "nbconvert_exporter": "python",
   "pygments_lexer": "ipython3",
   "version": "3.7.6"
  }
 },
 "nbformat": 4,
 "nbformat_minor": 4
}
